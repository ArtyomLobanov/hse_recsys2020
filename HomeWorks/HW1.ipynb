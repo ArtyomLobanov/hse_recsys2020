{
 "cells": [
  {
   "cell_type": "markdown",
   "metadata": {},
   "source": [
    "### Матричные факторизации"
   ]
  },
  {
   "cell_type": "markdown",
   "metadata": {},
   "source": [
    "В данной работе вам предстоит познакомиться с практической стороной матричных разложений.\n",
    "Работа поделена на 4 задания:\n",
    "1. Вам необходимо реализовать SVD разложения используя SGD на explicit данных\n",
    "2. Вам необходимо реализовать матричное разложения используя ALS на implicit данных\n",
    "3. Вам необходимо реализовать матричное разложения используя BPR(pair-wise loss) на implicit данных\n",
    "4. Вам необходимо реализовать матричное разложения используя WARP(list-wise loss) на implicit данных\n",
    "\n",
    "Мягкий дедлайн 28 Сентября (пишутся замечания, выставляется оценка, есть возможность исправить до жесткого дедлайна)\n",
    "\n",
    "Жесткий дедлайн 5 Октября (Итоговая проверка)"
   ]
  },
  {
   "cell_type": "code",
   "execution_count": 1,
   "metadata": {},
   "outputs": [],
   "source": [
    "# import implicit\n",
    "import pandas as pd\n",
    "import numpy as np\n",
    "import scipy.sparse as sp"
   ]
  },
  {
   "cell_type": "code",
   "execution_count": 5,
   "metadata": {},
   "outputs": [
    {
     "name": "stdout",
     "output_type": "stream",
     "text": [
      "HW1.ipynb\n",
      "data\n"
     ]
    }
   ],
   "source": [
    "!ls"
   ]
  },
  {
   "cell_type": "markdown",
   "metadata": {},
   "source": [
    "В данной работе мы будем работать с explicit датасетом movieLens, в котором представленны пары user_id movie_id и rating выставленный пользователем фильму\n",
    "\n",
    "Скачать датасет можно по ссылке https://grouplens.org/datasets/movielens/1m/"
   ]
  },
  {
   "cell_type": "code",
   "execution_count": 4,
   "metadata": {},
   "outputs": [],
   "source": [
    "ratings = pd.read_csv('data/ml-1m/ratings.dat', delimiter='::', header=None, \n",
    "        names=['user_id', 'movie_id', 'rating', 'timestamp'], \n",
    "        usecols=['user_id', 'movie_id', 'rating'], engine='python')"
   ]
  },
  {
   "cell_type": "code",
   "execution_count": 7,
   "metadata": {},
   "outputs": [],
   "source": [
    "movie_info = pd.read_csv('data/ml-1m/movies.dat', delimiter='::', header=None, \n",
    "        names=['movie_id', 'name', 'category'], engine='python')"
   ]
  },
  {
   "cell_type": "markdown",
   "metadata": {},
   "source": [
    "Explicit данные"
   ]
  },
  {
   "cell_type": "code",
   "execution_count": 8,
   "metadata": {},
   "outputs": [
    {
     "data": {
      "text/html": [
       "<div>\n",
       "<style scoped>\n",
       "    .dataframe tbody tr th:only-of-type {\n",
       "        vertical-align: middle;\n",
       "    }\n",
       "\n",
       "    .dataframe tbody tr th {\n",
       "        vertical-align: top;\n",
       "    }\n",
       "\n",
       "    .dataframe thead th {\n",
       "        text-align: right;\n",
       "    }\n",
       "</style>\n",
       "<table border=\"1\" class=\"dataframe\">\n",
       "  <thead>\n",
       "    <tr style=\"text-align: right;\">\n",
       "      <th></th>\n",
       "      <th>user_id</th>\n",
       "      <th>movie_id</th>\n",
       "      <th>rating</th>\n",
       "    </tr>\n",
       "  </thead>\n",
       "  <tbody>\n",
       "    <tr>\n",
       "      <th>0</th>\n",
       "      <td>1</td>\n",
       "      <td>1193</td>\n",
       "      <td>5</td>\n",
       "    </tr>\n",
       "    <tr>\n",
       "      <th>1</th>\n",
       "      <td>1</td>\n",
       "      <td>661</td>\n",
       "      <td>3</td>\n",
       "    </tr>\n",
       "    <tr>\n",
       "      <th>2</th>\n",
       "      <td>1</td>\n",
       "      <td>914</td>\n",
       "      <td>3</td>\n",
       "    </tr>\n",
       "    <tr>\n",
       "      <th>3</th>\n",
       "      <td>1</td>\n",
       "      <td>3408</td>\n",
       "      <td>4</td>\n",
       "    </tr>\n",
       "    <tr>\n",
       "      <th>4</th>\n",
       "      <td>1</td>\n",
       "      <td>2355</td>\n",
       "      <td>5</td>\n",
       "    </tr>\n",
       "    <tr>\n",
       "      <th>5</th>\n",
       "      <td>1</td>\n",
       "      <td>1197</td>\n",
       "      <td>3</td>\n",
       "    </tr>\n",
       "    <tr>\n",
       "      <th>6</th>\n",
       "      <td>1</td>\n",
       "      <td>1287</td>\n",
       "      <td>5</td>\n",
       "    </tr>\n",
       "    <tr>\n",
       "      <th>7</th>\n",
       "      <td>1</td>\n",
       "      <td>2804</td>\n",
       "      <td>5</td>\n",
       "    </tr>\n",
       "    <tr>\n",
       "      <th>8</th>\n",
       "      <td>1</td>\n",
       "      <td>594</td>\n",
       "      <td>4</td>\n",
       "    </tr>\n",
       "    <tr>\n",
       "      <th>9</th>\n",
       "      <td>1</td>\n",
       "      <td>919</td>\n",
       "      <td>4</td>\n",
       "    </tr>\n",
       "  </tbody>\n",
       "</table>\n",
       "</div>"
      ],
      "text/plain": [
       "   user_id  movie_id  rating\n",
       "0        1      1193       5\n",
       "1        1       661       3\n",
       "2        1       914       3\n",
       "3        1      3408       4\n",
       "4        1      2355       5\n",
       "5        1      1197       3\n",
       "6        1      1287       5\n",
       "7        1      2804       5\n",
       "8        1       594       4\n",
       "9        1       919       4"
      ]
     },
     "execution_count": 8,
     "metadata": {},
     "output_type": "execute_result"
    }
   ],
   "source": [
    "ratings.head(10)"
   ]
  },
  {
   "cell_type": "markdown",
   "metadata": {},
   "source": [
    "Для того, чтобы преобразовать текущий датасет в Implicit, давайте считать что позитивная оценка это оценка >=4"
   ]
  },
  {
   "cell_type": "code",
   "execution_count": 9,
   "metadata": {},
   "outputs": [],
   "source": [
    "implicit_ratings = ratings.loc[(ratings['rating'] >= 4)]"
   ]
  },
  {
   "cell_type": "code",
   "execution_count": 10,
   "metadata": {},
   "outputs": [
    {
     "data": {
      "text/html": [
       "<div>\n",
       "<style scoped>\n",
       "    .dataframe tbody tr th:only-of-type {\n",
       "        vertical-align: middle;\n",
       "    }\n",
       "\n",
       "    .dataframe tbody tr th {\n",
       "        vertical-align: top;\n",
       "    }\n",
       "\n",
       "    .dataframe thead th {\n",
       "        text-align: right;\n",
       "    }\n",
       "</style>\n",
       "<table border=\"1\" class=\"dataframe\">\n",
       "  <thead>\n",
       "    <tr style=\"text-align: right;\">\n",
       "      <th></th>\n",
       "      <th>user_id</th>\n",
       "      <th>movie_id</th>\n",
       "      <th>rating</th>\n",
       "    </tr>\n",
       "  </thead>\n",
       "  <tbody>\n",
       "    <tr>\n",
       "      <th>0</th>\n",
       "      <td>1</td>\n",
       "      <td>1193</td>\n",
       "      <td>5</td>\n",
       "    </tr>\n",
       "    <tr>\n",
       "      <th>3</th>\n",
       "      <td>1</td>\n",
       "      <td>3408</td>\n",
       "      <td>4</td>\n",
       "    </tr>\n",
       "    <tr>\n",
       "      <th>4</th>\n",
       "      <td>1</td>\n",
       "      <td>2355</td>\n",
       "      <td>5</td>\n",
       "    </tr>\n",
       "    <tr>\n",
       "      <th>6</th>\n",
       "      <td>1</td>\n",
       "      <td>1287</td>\n",
       "      <td>5</td>\n",
       "    </tr>\n",
       "    <tr>\n",
       "      <th>7</th>\n",
       "      <td>1</td>\n",
       "      <td>2804</td>\n",
       "      <td>5</td>\n",
       "    </tr>\n",
       "    <tr>\n",
       "      <th>8</th>\n",
       "      <td>1</td>\n",
       "      <td>594</td>\n",
       "      <td>4</td>\n",
       "    </tr>\n",
       "    <tr>\n",
       "      <th>9</th>\n",
       "      <td>1</td>\n",
       "      <td>919</td>\n",
       "      <td>4</td>\n",
       "    </tr>\n",
       "    <tr>\n",
       "      <th>10</th>\n",
       "      <td>1</td>\n",
       "      <td>595</td>\n",
       "      <td>5</td>\n",
       "    </tr>\n",
       "    <tr>\n",
       "      <th>11</th>\n",
       "      <td>1</td>\n",
       "      <td>938</td>\n",
       "      <td>4</td>\n",
       "    </tr>\n",
       "    <tr>\n",
       "      <th>12</th>\n",
       "      <td>1</td>\n",
       "      <td>2398</td>\n",
       "      <td>4</td>\n",
       "    </tr>\n",
       "  </tbody>\n",
       "</table>\n",
       "</div>"
      ],
      "text/plain": [
       "    user_id  movie_id  rating\n",
       "0         1      1193       5\n",
       "3         1      3408       4\n",
       "4         1      2355       5\n",
       "6         1      1287       5\n",
       "7         1      2804       5\n",
       "8         1       594       4\n",
       "9         1       919       4\n",
       "10        1       595       5\n",
       "11        1       938       4\n",
       "12        1      2398       4"
      ]
     },
     "execution_count": 10,
     "metadata": {},
     "output_type": "execute_result"
    }
   ],
   "source": [
    "implicit_ratings.head(10)"
   ]
  },
  {
   "cell_type": "markdown",
   "metadata": {},
   "source": [
    "Удобнее работать с sparse матричками, давайте преобразуем DataFrame в CSR матрицы"
   ]
  },
  {
   "cell_type": "code",
   "execution_count": 11,
   "metadata": {},
   "outputs": [],
   "source": [
    "users = implicit_ratings[\"user_id\"]\n",
    "movies = implicit_ratings[\"movie_id\"]\n",
    "user_item = sp.coo_matrix((np.ones_like(users), (users, movies)))\n",
    "user_item_t_csr = user_item.T.tocsr()\n",
    "user_item_csr = user_item.tocsr()"
   ]
  },
  {
   "cell_type": "markdown",
   "metadata": {},
   "source": [
    "В качестве примера воспользуемся ALS разложением из библиотеки implicit\n",
    "\n",
    "Зададим размерность латентного пространства равным 64, это же определяет размер user/item эмбедингов"
   ]
  },
  {
   "cell_type": "code",
   "execution_count": 8,
   "metadata": {},
   "outputs": [
    {
     "name": "stderr",
     "output_type": "stream",
     "text": [
      "WARNING:root:Intel MKL BLAS detected. Its highly recommend to set the environment variable 'export MKL_NUM_THREADS=1' to disable its internal multithreading\n"
     ]
    }
   ],
   "source": [
    "model = implicit.als.AlternatingLeastSquares(factors=64, iterations=100, calculate_training_loss=True)"
   ]
  },
  {
   "cell_type": "markdown",
   "metadata": {},
   "source": [
    "В качестве loss здесь всеми любимый RMSE"
   ]
  },
  {
   "cell_type": "code",
   "execution_count": 9,
   "metadata": {},
   "outputs": [
    {
     "data": {
      "application/vnd.jupyter.widget-view+json": {
       "model_id": "1e466744b30a44e7b736e5cf9b829961",
       "version_major": 2,
       "version_minor": 0
      },
      "text/plain": [
       "HBox(children=(FloatProgress(value=0.0), HTML(value='')))"
      ]
     },
     "metadata": {},
     "output_type": "display_data"
    },
    {
     "name": "stdout",
     "output_type": "stream",
     "text": [
      "\n"
     ]
    }
   ],
   "source": [
    "model.fit(user_item_t_csr)"
   ]
  },
  {
   "cell_type": "markdown",
   "metadata": {},
   "source": [
    "Построим похожие фильмы по 1 movie_id = Истории игрушек"
   ]
  },
  {
   "cell_type": "code",
   "execution_count": 16,
   "metadata": {},
   "outputs": [
    {
     "data": {
      "text/html": [
       "<div>\n",
       "<style scoped>\n",
       "    .dataframe tbody tr th:only-of-type {\n",
       "        vertical-align: middle;\n",
       "    }\n",
       "\n",
       "    .dataframe tbody tr th {\n",
       "        vertical-align: top;\n",
       "    }\n",
       "\n",
       "    .dataframe thead th {\n",
       "        text-align: right;\n",
       "    }\n",
       "</style>\n",
       "<table border=\"1\" class=\"dataframe\">\n",
       "  <thead>\n",
       "    <tr style=\"text-align: right;\">\n",
       "      <th></th>\n",
       "      <th>movie_id</th>\n",
       "      <th>name</th>\n",
       "      <th>category</th>\n",
       "    </tr>\n",
       "  </thead>\n",
       "  <tbody>\n",
       "    <tr>\n",
       "      <td>0</td>\n",
       "      <td>1</td>\n",
       "      <td>Toy Story (1995)</td>\n",
       "      <td>Animation|Children's|Comedy</td>\n",
       "    </tr>\n",
       "    <tr>\n",
       "      <td>1</td>\n",
       "      <td>2</td>\n",
       "      <td>Jumanji (1995)</td>\n",
       "      <td>Adventure|Children's|Fantasy</td>\n",
       "    </tr>\n",
       "    <tr>\n",
       "      <td>2</td>\n",
       "      <td>3</td>\n",
       "      <td>Grumpier Old Men (1995)</td>\n",
       "      <td>Comedy|Romance</td>\n",
       "    </tr>\n",
       "    <tr>\n",
       "      <td>3</td>\n",
       "      <td>4</td>\n",
       "      <td>Waiting to Exhale (1995)</td>\n",
       "      <td>Comedy|Drama</td>\n",
       "    </tr>\n",
       "    <tr>\n",
       "      <td>4</td>\n",
       "      <td>5</td>\n",
       "      <td>Father of the Bride Part II (1995)</td>\n",
       "      <td>Comedy</td>\n",
       "    </tr>\n",
       "  </tbody>\n",
       "</table>\n",
       "</div>"
      ],
      "text/plain": [
       "   movie_id                                name                      category\n",
       "0         1                    Toy Story (1995)   Animation|Children's|Comedy\n",
       "1         2                      Jumanji (1995)  Adventure|Children's|Fantasy\n",
       "2         3             Grumpier Old Men (1995)                Comedy|Romance\n",
       "3         4            Waiting to Exhale (1995)                  Comedy|Drama\n",
       "4         5  Father of the Bride Part II (1995)                        Comedy"
      ]
     },
     "execution_count": 16,
     "metadata": {},
     "output_type": "execute_result"
    }
   ],
   "source": [
    "movie_info.head(5)"
   ]
  },
  {
   "cell_type": "code",
   "execution_count": 10,
   "metadata": {},
   "outputs": [],
   "source": [
    "get_similars = lambda item_id, model : [movie_info[movie_info[\"movie_id\"] == x[0]][\"name\"].to_string() \n",
    "                                        for x in model.similar_items(item_id)]"
   ]
  },
  {
   "cell_type": "markdown",
   "metadata": {},
   "source": [
    "Как мы видим, симилары действительно оказались симиларами.\n",
    "\n",
    "Качество симиларов часто является хорошим способом проверить качество алгоритмов.\n",
    "\n",
    "P.S. Если хочется поглубже разобраться в том как разные алгоритмы формируют разные латентные пространства, рекомендую загружать полученные вектора в tensorBoard и смотреть на сформированное пространство"
   ]
  },
  {
   "cell_type": "code",
   "execution_count": 11,
   "metadata": {},
   "outputs": [
    {
     "data": {
      "text/plain": [
       "['0    Toy Story (1995)',\n",
       " '3045    Toy Story 2 (1999)',\n",
       " \"2286    Bug's Life, A (1998)\",\n",
       " '33    Babe (1995)',\n",
       " '584    Aladdin (1992)',\n",
       " '2315    Babe: Pig in the City (1998)',\n",
       " '1838    Mulan (1998)',\n",
       " '1526    Hercules (1997)',\n",
       " '2618    Tarzan (1999)',\n",
       " '2692    Iron Giant, The (1999)']"
      ]
     },
     "execution_count": 11,
     "metadata": {},
     "output_type": "execute_result"
    }
   ],
   "source": [
    "get_similars(1, model)"
   ]
  },
  {
   "cell_type": "markdown",
   "metadata": {},
   "source": [
    "Давайте теперь построим рекомендации для юзеров\n",
    "\n",
    "Как мы видим юзеру нравится фантастика, значит и в рекомендациях ожидаем увидеть фантастику"
   ]
  },
  {
   "cell_type": "code",
   "execution_count": 12,
   "metadata": {},
   "outputs": [],
   "source": [
    "get_user_history = lambda user_id, implicit_ratings : [movie_info[movie_info[\"movie_id\"] == x][\"name\"].to_string() \n",
    "                                            for x in implicit_ratings[implicit_ratings[\"user_id\"] == user_id][\"movie_id\"]]"
   ]
  },
  {
   "cell_type": "code",
   "execution_count": 13,
   "metadata": {},
   "outputs": [
    {
     "data": {
      "text/plain": [
       "['3399    Hustler, The (1961)',\n",
       " '2882    Fistful of Dollars, A (1964)',\n",
       " '1196    Alien (1979)',\n",
       " '1023    Die Hard (1988)',\n",
       " '257    Star Wars: Episode IV - A New Hope (1977)',\n",
       " '1959    Saving Private Ryan (1998)',\n",
       " '476    Jurassic Park (1993)',\n",
       " '1180    Raiders of the Lost Ark (1981)',\n",
       " '1885    Rocky (1976)',\n",
       " '1081    E.T. the Extra-Terrestrial (1982)',\n",
       " '3349    Thelma & Louise (1991)',\n",
       " '3633    Mad Max (1979)',\n",
       " '2297    King Kong (1933)',\n",
       " '1366    Jaws (1975)',\n",
       " '1183    Good, The Bad and The Ugly, The (1966)',\n",
       " '2623    Run Lola Run (Lola rennt) (1998)',\n",
       " '2878    Goldfinger (1964)',\n",
       " '1220    Terminator, The (1984)']"
      ]
     },
     "execution_count": 13,
     "metadata": {},
     "output_type": "execute_result"
    }
   ],
   "source": [
    "get_user_history(4, implicit_ratings)"
   ]
  },
  {
   "cell_type": "markdown",
   "metadata": {},
   "source": [
    "Получилось! \n",
    "\n",
    "Мы действительно порекомендовали пользователю фантастику и боевики, более того встречаются продолжения тех фильмов, которые он высоко оценил"
   ]
  },
  {
   "cell_type": "code",
   "execution_count": 14,
   "metadata": {},
   "outputs": [],
   "source": [
    "get_recommendations = lambda user_id, model : [movie_info[movie_info[\"movie_id\"] == x[0]][\"name\"].to_string() \n",
    "                                               for x in model.recommend(user_id, user_item_csr)]"
   ]
  },
  {
   "cell_type": "code",
   "execution_count": 15,
   "metadata": {},
   "outputs": [
    {
     "data": {
      "text/plain": [
       "['585    Terminator 2: Judgment Day (1991)',\n",
       " '1271    Indiana Jones and the Last Crusade (1989)',\n",
       " '1182    Aliens (1986)',\n",
       " '1284    Butch Cassidy and the Sundance Kid (1969)',\n",
       " '2502    Matrix, The (1999)',\n",
       " '1178    Star Wars: Episode V - The Empire Strikes Back...',\n",
       " '1892    Rain Man (1988)',\n",
       " '3402    Close Encounters of the Third Kind (1977)',\n",
       " '1179    Princess Bride, The (1987)',\n",
       " '847    Godfather, The (1972)']"
      ]
     },
     "execution_count": 15,
     "metadata": {},
     "output_type": "execute_result"
    }
   ],
   "source": [
    "get_recommendations(4, model)"
   ]
  },
  {
   "cell_type": "markdown",
   "metadata": {},
   "source": [
    "Теперь ваша очередь реализовать самые популярные алгоритмы матричных разложений\n",
    "\n",
    "Что будет оцениваться:\n",
    "1. Корректность алгоритма\n",
    "2. Качество получившихся симиларов\n",
    "3. Качество итоговых рекомендаций для юзера"
   ]
  },
  {
   "cell_type": "code",
   "execution_count": 12,
   "metadata": {},
   "outputs": [],
   "source": [
    "import torch\n",
    "from torch.nn import functional as F"
   ]
  },
  {
   "cell_type": "code",
   "execution_count": 88,
   "metadata": {},
   "outputs": [],
   "source": [
    "users = ratings[\"user_id\"]\n",
    "movies = ratings[\"movie_id\"]\n",
    "labels = ratings[\"rating\"]\n",
    "user_item = sp.coo_matrix((labels, (users, movies)))"
   ]
  },
  {
   "cell_type": "code",
   "execution_count": 89,
   "metadata": {},
   "outputs": [],
   "source": [
    "torch_data = torch.sparse.FloatTensor(\n",
    "    torch.as_tensor([user_item.row, user_item.col], dtype=torch.long), \n",
    "    torch.as_tensor(user_item.data), \n",
    "    torch.Size(user_item.shape)).to_dense()"
   ]
  },
  {
   "cell_type": "code",
   "execution_count": 242,
   "metadata": {},
   "outputs": [],
   "source": [
    "implicit_torch_data = torch.sparse.FloatTensor(\n",
    "    torch.as_tensor([user_item.row, user_item.col], dtype=torch.long), \n",
    "    torch.ones(user_item.data.shape), \n",
    "    torch.Size(user_item.shape)).to_dense()"
   ]
  },
  {
   "cell_type": "code",
   "execution_count": 224,
   "metadata": {},
   "outputs": [],
   "source": [
    "movie_data = {}\n",
    "for movie_id, movie_name, movie_category in zip(movie_info['movie_id'], \n",
    "                                                movie_info['name'], \n",
    "                                                movie_info['category']):\n",
    "    movie_data[movie_id] = (movie_name, movie_category)"
   ]
  },
  {
   "cell_type": "code",
   "execution_count": 397,
   "metadata": {},
   "outputs": [],
   "source": [
    "def cos_dist(x, y):\n",
    "    norm = torch.sqrt(x.dot(x) * y.dot(y))\n",
    "    norm[norm == 0] = 1\n",
    "    return (1 - x.dot(y) / norm) / 2"
   ]
  },
  {
   "cell_type": "code",
   "execution_count": 398,
   "metadata": {},
   "outputs": [],
   "source": [
    "def l2_dist(x, y):\n",
    "    return torch.sum((x - y) ** 2)"
   ]
  },
  {
   "cell_type": "code",
   "execution_count": 399,
   "metadata": {},
   "outputs": [],
   "source": [
    "def get_simmilar_movies(target, items_table, k=20, dist=cos_dist):\n",
    "    dists = [(dist(target, vector), i) for i, vector in enumerate(items_table)]\n",
    "    dists.sort()\n",
    "    for d, i in dists[:k]:\n",
    "        movie_name, movie_category = movie_data.get(i, ('Unknown', 'Unknown'))\n",
    "        print(f'[d={d:.3f}] {movie_name} (Category: {movie_category})')"
   ]
  },
  {
   "cell_type": "code",
   "execution_count": 256,
   "metadata": {},
   "outputs": [],
   "source": [
    "def get_recommendations(user, labels, items_table, k=20):\n",
    "    predictions = torch.mm(items_table, user.unsqueeze(1)).squeeze()\n",
    "    values, indexes = torch.sort(predictions, descending=True)\n",
    "    for i in map(torch.Tensor.item, indexes):\n",
    "        if k == 0:\n",
    "            break\n",
    "        if labels[i] != 0:\n",
    "            continue\n",
    "        k -= 1\n",
    "        movie_name, movie_category = movie_data.get(i, ('Unknown', 'Unknown'))\n",
    "        print(f'[d={predictions[i]:.3f}] {movie_name} (Category: {movie_category})')"
   ]
  },
  {
   "cell_type": "markdown",
   "metadata": {},
   "source": [
    "### Задание 1. Не использую готовые решения, реализовать SVD разложение используя SGD на explicit данных"
   ]
  },
  {
   "cell_type": "code",
   "execution_count": 389,
   "metadata": {},
   "outputs": [],
   "source": [
    "class SGD:\n",
    "    def __init__(self, users_dim, items_dim, hidden_dim, device='cuda'):\n",
    "        self.users_embeddings = torch.rand(users_dim, hidden_dim, device=device) / np.sqrt(hidden_dim)\n",
    "        self.items_embeddings = torch.rand(items_dim, hidden_dim, device=device) / np.sqrt(hidden_dim)\n",
    "        self.device = device\n",
    "        \n",
    "    def predict(self):\n",
    "        return torch.mm(self.users_embeddings, self.items_embeddings.transpose(0, 1))\n",
    "    \n",
    "    def fit(self, user_item, alpha, lr, n_epoch=1000, zeros_weight=1.0):\n",
    "        user_item = user_item.to(self.device)\n",
    "        for i in range(n_epoch):\n",
    "            deltas = self.predict() - user_item\n",
    "            if zeros_weight != 1.0:\n",
    "                deltas[user_item == 0] *= zeros_weight\n",
    "            users_grad = 2 * (torch.mm(deltas, self.items_embeddings) + alpha * self.users_embeddings)\n",
    "            items_grad = 2 * (torch.mm(deltas.transpose(0, 1), self.users_embeddings) + alpha * self.items_embeddings)\n",
    "            self.users_embeddings -= lr * users_grad\n",
    "            self.items_embeddings -= lr * items_grad\n",
    "        \n",
    "    def to(self, device):\n",
    "        self.users_embeddings = self.users_embeddings.to(device)\n",
    "        self.items_embeddings = self.items_embeddings.to(device)\n",
    "        self.device = device"
   ]
  },
  {
   "cell_type": "code",
   "execution_count": 390,
   "metadata": {},
   "outputs": [],
   "source": [
    "n_users, n_items = torch_data.shape\n",
    "model_sgd = SGD(n_users, n_items, 64)\n",
    "model_sgd.fit(torch_data, 0.1, 0.0001, zeros_weight=0.01)"
   ]
  },
  {
   "cell_type": "code",
   "execution_count": 400,
   "metadata": {},
   "outputs": [
    {
     "name": "stdout",
     "output_type": "stream",
     "text": [
      "[d=0.000] Toy Story (1995) (Category: Animation|Children's|Comedy)\n",
      "[d=0.047] Toy Story 2 (1999) (Category: Animation|Children's|Comedy)\n",
      "[d=0.058] Bug's Life, A (1998) (Category: Animation|Children's|Comedy)\n",
      "[d=0.119] Chicken Run (2000) (Category: Animation|Children's|Comedy)\n",
      "[d=0.126] Ghostbusters (1984) (Category: Comedy|Horror)\n",
      "[d=0.130] Raiders of the Lost Ark (1981) (Category: Action|Adventure)\n",
      "[d=0.130] Shawshank Redemption, The (1994) (Category: Drama)\n",
      "[d=0.130] Back to the Future (1985) (Category: Comedy|Sci-Fi)\n",
      "[d=0.131] Aladdin (1992) (Category: Animation|Children's|Comedy|Musical)\n",
      "[d=0.132] Rain Man (1988) (Category: Drama)\n",
      "[d=0.136] Breakfast Club, The (1985) (Category: Comedy|Drama)\n",
      "[d=0.140] Stand by Me (1986) (Category: Adventure|Comedy|Drama)\n",
      "[d=0.140] Babe (1995) (Category: Children's|Comedy|Drama)\n",
      "[d=0.141] Wrong Trousers, The (1993) (Category: Animation|Comedy)\n",
      "[d=0.144] Sixth Sense, The (1999) (Category: Thriller)\n",
      "[d=0.144] Big (1988) (Category: Comedy|Fantasy)\n",
      "[d=0.144] Groundhog Day (1993) (Category: Comedy|Romance)\n",
      "[d=0.146] E.T. the Extra-Terrestrial (1982) (Category: Children's|Drama|Fantasy|Sci-Fi)\n",
      "[d=0.151] Lion King, The (1994) (Category: Animation|Children's|Musical)\n",
      "[d=0.151] Schindler's List (1993) (Category: Drama|War)\n"
     ]
    }
   ],
   "source": [
    "items_table = model_sgd.items_embeddings\n",
    "get_simmilar_movies(items_table[1], items_table)"
   ]
  },
  {
   "cell_type": "code",
   "execution_count": 402,
   "metadata": {},
   "outputs": [
    {
     "name": "stdout",
     "output_type": "stream",
     "text": [
      "[d=0.000] Toy Story (1995) (Category: Animation|Children's|Comedy)\n",
      "[d=4.758] Toy Story 2 (1999) (Category: Animation|Children's|Comedy)\n",
      "[d=5.066] Bug's Life, A (1998) (Category: Animation|Children's|Comedy)\n",
      "[d=10.938] Aladdin (1992) (Category: Animation|Children's|Comedy|Musical)\n",
      "[d=11.177] Ghostbusters (1984) (Category: Comedy|Horror)\n",
      "[d=11.302] Chicken Run (2000) (Category: Animation|Children's|Comedy)\n",
      "[d=11.854] Big (1988) (Category: Comedy|Fantasy)\n",
      "[d=11.930] Breakfast Club, The (1985) (Category: Comedy|Drama)\n",
      "[d=12.238] Rain Man (1988) (Category: Drama)\n",
      "[d=12.457] Back to the Future (1985) (Category: Comedy|Sci-Fi)\n",
      "[d=12.525] Lion King, The (1994) (Category: Animation|Children's|Musical)\n",
      "[d=12.558] Shawshank Redemption, The (1994) (Category: Drama)\n",
      "[d=12.648] Stand by Me (1986) (Category: Adventure|Comedy|Drama)\n",
      "[d=12.974] Ferris Bueller's Day Off (1986) (Category: Comedy)\n",
      "[d=12.982] Raiders of the Lost Ark (1981) (Category: Action|Adventure)\n",
      "[d=13.058] Wrong Trousers, The (1993) (Category: Animation|Comedy)\n",
      "[d=13.467] Groundhog Day (1993) (Category: Comedy|Romance)\n",
      "[d=13.592] Babe (1995) (Category: Children's|Comedy|Drama)\n",
      "[d=13.684] Fatal Attraction (1987) (Category: Thriller)\n",
      "[d=13.816] Indiana Jones and the Last Crusade (1989) (Category: Action|Adventure)\n"
     ]
    }
   ],
   "source": [
    "items_table = model_sgd.items_embeddings\n",
    "get_simmilar_movies(items_table[1], items_table, dist=l2_dist)"
   ]
  },
  {
   "cell_type": "code",
   "execution_count": 403,
   "metadata": {},
   "outputs": [
    {
     "name": "stdout",
     "output_type": "stream",
     "text": [
      "[d=4.799] Terminator 2: Judgment Day (1991) (Category: Action|Sci-Fi|Thriller)\n",
      "[d=4.635] Braveheart (1995) (Category: Action|Drama|War)\n",
      "[d=4.508] Godfather, The (1972) (Category: Action|Crime|Drama)\n",
      "[d=4.446] Matrix, The (1999) (Category: Action|Sci-Fi|Thriller)\n",
      "[d=4.284] Fugitive, The (1993) (Category: Action|Thriller)\n",
      "[d=4.070] Butch Cassidy and the Sundance Kid (1969) (Category: Action|Comedy|Western)\n",
      "[d=3.973] Shawshank Redemption, The (1994) (Category: Drama)\n",
      "[d=3.920] One Flew Over the Cuckoo's Nest (1975) (Category: Drama)\n",
      "[d=3.903] Schindler's List (1993) (Category: Drama|War)\n",
      "[d=3.841] Seven Samurai (The Magnificent Seven) (Shichinin no samurai) (1954) (Category: Action|Drama)\n",
      "[d=3.834] Back to the Future (1985) (Category: Comedy|Sci-Fi)\n",
      "[d=3.809] Godfather: Part II, The (1974) (Category: Action|Crime|Drama)\n",
      "[d=3.798] Princess Bride, The (1987) (Category: Action|Adventure|Comedy|Romance)\n",
      "[d=3.744] Close Encounters of the Third Kind (1977) (Category: Drama|Sci-Fi)\n",
      "[d=3.730] Hunt for Red October, The (1990) (Category: Action|Thriller)\n",
      "[d=3.687] Lethal Weapon (1987) (Category: Action|Comedy|Crime|Drama)\n",
      "[d=3.655] Psycho (1960) (Category: Horror|Thriller)\n",
      "[d=3.642] Casablanca (1942) (Category: Drama|Romance|War)\n",
      "[d=3.640] Sixth Sense, The (1999) (Category: Thriller)\n",
      "[d=3.621] Mad Max 2 (a.k.a. The Road Warrior) (1981) (Category: Action|Sci-Fi)\n"
     ]
    }
   ],
   "source": [
    "get_recommendations(model_sgd.users_embeddings[4], torch_data[4], items_table)"
   ]
  },
  {
   "cell_type": "markdown",
   "metadata": {},
   "source": [
    "### Задание 2. Не использую готовые решения, реализовать матричное разложение используя ALS на implicit данных"
   ]
  },
  {
   "cell_type": "code",
   "execution_count": 404,
   "metadata": {},
   "outputs": [],
   "source": [
    "class ALS:\n",
    "    def __init__(self, users_dim, items_dim, hidden_dim, device='cuda'):\n",
    "        self.users_embeddings = torch.rand(users_dim, hidden_dim, device=device) / np.sqrt(hidden_dim)\n",
    "        self.items_embeddings = torch.rand(items_dim, hidden_dim, device=device) / np.sqrt(hidden_dim)\n",
    "        self.hidden_dim = hidden_dim\n",
    "        self.device = device\n",
    "        \n",
    "    def predict(self):\n",
    "        return torch.mm(self.users_embeddings, self.items_embeddings.transpose(0, 1))\n",
    "    \n",
    "    def fit(self, user_item, bound, alpha, n_epoch=10, non_zeros_weight=1.0):\n",
    "        # Преобразуем в обозначения из http://yifanhu.net/PUB/cf.pdf\n",
    "        user_item = user_item.to(self.device)\n",
    "        C = 1 + non_zeros_weight * user_item\n",
    "        P = (user_item >= bound).float()\n",
    "        X = self.users_embeddings\n",
    "        Xt = X.transpose(0, 1) \n",
    "        Y = self.items_embeddings\n",
    "        Yt = Y.transpose(0, 1) \n",
    "        aI = alpha * torch.eye(self.hidden_dim, device=self.device)\n",
    "        for _ in range(n_epoch):            \n",
    "            for u in range(len(self.users_embeddings)):\n",
    "                X[u] = torch.mm(torch.inverse(torch.mm(Yt * C[u], Y) + aI), Yt * C[u]).matmul(P[u])\n",
    "            for i in range(len(self.items_embeddings)):\n",
    "                Y[i] = torch.mm(torch.inverse(torch.mm(Xt * C[:, i], X) + aI), Xt * C[:, i]).matmul(P[:, i])\n",
    "        \n",
    "    def to(self, device):\n",
    "        self.users_embeddings = self.users_embeddings.to(device)\n",
    "        self.items_embeddings = self.items_embeddings.to(device)\n",
    "        self.device = device"
   ]
  },
  {
   "cell_type": "code",
   "execution_count": 405,
   "metadata": {},
   "outputs": [],
   "source": [
    "n_users, n_items = torch_data.shape\n",
    "model_als = ALS(n_users, n_items, 64)\n",
    "model_als.fit(torch_data, 4, 0.1, non_zeros_weight=5)"
   ]
  },
  {
   "cell_type": "code",
   "execution_count": 413,
   "metadata": {},
   "outputs": [
    {
     "name": "stdout",
     "output_type": "stream",
     "text": [
      "[d=0.000] Toy Story (1995) (Category: Animation|Children's|Comedy)\n",
      "[d=0.020] Toy Story 2 (1999) (Category: Animation|Children's|Comedy)\n",
      "[d=0.082] Shawshank Redemption, The (1994) (Category: Drama)\n",
      "[d=0.083] Bug's Life, A (1998) (Category: Animation|Children's|Comedy)\n",
      "[d=0.084] Raiders of the Lost Ark (1981) (Category: Action|Adventure)\n",
      "[d=0.085] Sixth Sense, The (1999) (Category: Thriller)\n",
      "[d=0.091] Usual Suspects, The (1995) (Category: Crime|Thriller)\n",
      "[d=0.096] Schindler's List (1993) (Category: Drama|War)\n",
      "[d=0.096] Princess Bride, The (1987) (Category: Action|Adventure|Comedy|Romance)\n",
      "[d=0.097] Silence of the Lambs, The (1991) (Category: Drama|Thriller)\n",
      "[d=0.100] Monty Python and the Holy Grail (1974) (Category: Comedy)\n",
      "[d=0.100] Matrix, The (1999) (Category: Action|Sci-Fi|Thriller)\n",
      "[d=0.101] Pulp Fiction (1994) (Category: Crime|Drama)\n",
      "[d=0.102] Star Wars: Episode IV - A New Hope (1977) (Category: Action|Adventure|Fantasy|Sci-Fi)\n",
      "[d=0.103] Pleasantville (1998) (Category: Comedy)\n",
      "[d=0.103] L.A. Confidential (1997) (Category: Crime|Film-Noir|Mystery|Thriller)\n",
      "[d=0.104] Star Wars: Episode V - The Empire Strikes Back (1980) (Category: Action|Adventure|Drama|Sci-Fi|War)\n",
      "[d=0.104] Fugitive, The (1993) (Category: Action|Thriller)\n",
      "[d=0.107] Christmas Story, A (1983) (Category: Comedy|Drama)\n",
      "[d=0.109] Raising Arizona (1987) (Category: Comedy)\n"
     ]
    }
   ],
   "source": [
    "items_table = model_als.items_embeddings\n",
    "get_simmilar_movies(items_table[1], items_table)"
   ]
  },
  {
   "cell_type": "code",
   "execution_count": 414,
   "metadata": {},
   "outputs": [
    {
     "name": "stdout",
     "output_type": "stream",
     "text": [
      "[d=0.000] Toy Story (1995) (Category: Animation|Children's|Comedy)\n",
      "[d=0.073] Toy Story 2 (1999) (Category: Animation|Children's|Comedy)\n",
      "[d=0.284] Shawshank Redemption, The (1994) (Category: Drama)\n",
      "[d=0.297] Bug's Life, A (1998) (Category: Animation|Children's|Comedy)\n",
      "[d=0.304] Raiders of the Lost Ark (1981) (Category: Action|Adventure)\n",
      "[d=0.305] Usual Suspects, The (1995) (Category: Crime|Thriller)\n",
      "[d=0.305] Sixth Sense, The (1999) (Category: Thriller)\n",
      "[d=0.322] Princess Bride, The (1987) (Category: Action|Adventure|Comedy|Romance)\n",
      "[d=0.333] Schindler's List (1993) (Category: Drama|War)\n",
      "[d=0.335] Silence of the Lambs, The (1991) (Category: Drama|Thriller)\n",
      "[d=0.341] Monty Python and the Holy Grail (1974) (Category: Comedy)\n",
      "[d=0.342] Pulp Fiction (1994) (Category: Crime|Drama)\n",
      "[d=0.344] Matrix, The (1999) (Category: Action|Sci-Fi|Thriller)\n",
      "[d=0.351] Fugitive, The (1993) (Category: Action|Thriller)\n",
      "[d=0.360] Christmas Story, A (1983) (Category: Comedy|Drama)\n",
      "[d=0.360] Star Wars: Episode IV - A New Hope (1977) (Category: Action|Adventure|Fantasy|Sci-Fi)\n",
      "[d=0.360] Raising Arizona (1987) (Category: Comedy)\n",
      "[d=0.360] Aladdin (1992) (Category: Animation|Children's|Comedy|Musical)\n",
      "[d=0.361] Pleasantville (1998) (Category: Comedy)\n",
      "[d=0.363] Truman Show, The (1998) (Category: Drama)\n"
     ]
    }
   ],
   "source": [
    "items_table = model_als.items_embeddings\n",
    "get_simmilar_movies(items_table[1], items_table, dist=l2_dist)"
   ]
  },
  {
   "cell_type": "code",
   "execution_count": 415,
   "metadata": {},
   "outputs": [
    {
     "name": "stdout",
     "output_type": "stream",
     "text": [
      "[d=0.905] Butch Cassidy and the Sundance Kid (1969) (Category: Action|Comedy|Western)\n",
      "[d=0.815] Godfather, The (1972) (Category: Action|Crime|Drama)\n",
      "[d=0.814] Terminator 2: Judgment Day (1991) (Category: Action|Sci-Fi|Thriller)\n",
      "[d=0.783] Dirty Dozen, The (1967) (Category: Action|War)\n",
      "[d=0.765] African Queen, The (1951) (Category: Action|Adventure|Romance|War)\n",
      "[d=0.762] Aliens (1986) (Category: Action|Sci-Fi|Thriller|War)\n",
      "[d=0.752] Ben-Hur (1959) (Category: Action|Adventure|Drama)\n",
      "[d=0.741] Braveheart (1995) (Category: Action|Drama|War)\n",
      "[d=0.725] Godfather: Part II, The (1974) (Category: Action|Crime|Drama)\n",
      "[d=0.704] Matrix, The (1999) (Category: Action|Sci-Fi|Thriller)\n",
      "[d=0.690] One Flew Over the Cuckoo's Nest (1975) (Category: Drama)\n",
      "[d=0.648] French Connection, The (1971) (Category: Action|Crime|Drama|Thriller)\n",
      "[d=0.607] Indiana Jones and the Last Crusade (1989) (Category: Action|Adventure)\n",
      "[d=0.599] Schindler's List (1993) (Category: Drama|War)\n",
      "[d=0.598] Boat, The (Das Boot) (1981) (Category: Action|Drama|War)\n",
      "[d=0.590] Silence of the Lambs, The (1991) (Category: Drama|Thriller)\n",
      "[d=0.590] Exorcist, The (1973) (Category: Horror)\n",
      "[d=0.586] Fugitive, The (1993) (Category: Action|Thriller)\n",
      "[d=0.585] Mad Max 2 (a.k.a. The Road Warrior) (1981) (Category: Action|Sci-Fi)\n",
      "[d=0.579] Close Encounters of the Third Kind (1977) (Category: Drama|Sci-Fi)\n"
     ]
    }
   ],
   "source": [
    "get_recommendations(model_als.users_embeddings[4], torch_data[4], items_table)"
   ]
  },
  {
   "cell_type": "markdown",
   "metadata": {},
   "source": [
    "### Задание 3. Не использую готовые решения, реализовать матричное разложение BPR на implicit данных"
   ]
  },
  {
   "cell_type": "code",
   "execution_count": 416,
   "metadata": {},
   "outputs": [],
   "source": [
    "import numpy as np\n",
    "from numpy import random\n",
    "from sklearn.metrics import roc_auc_score"
   ]
  },
  {
   "cell_type": "code",
   "execution_count": 419,
   "metadata": {},
   "outputs": [],
   "source": [
    "class BPR:\n",
    "    def __init__(self, users_dim, items_dim, hidden_dim, device='cuda'):\n",
    "        self.users_embeddings = torch.rand(users_dim, hidden_dim, device=device) / np.sqrt(hidden_dim)\n",
    "        self.items_embeddings = torch.rand(items_dim, hidden_dim, device=device) / np.sqrt(hidden_dim)\n",
    "        self.hidden_dim = hidden_dim\n",
    "        self.device = device\n",
    "        \n",
    "    def predict(self):\n",
    "        return torch.mm(self.users_embeddings, self.items_embeddings.transpose(0, 1))\n",
    "    \n",
    "    def fit(self, user_item, bound, alpha, lr, n_epoch=10000, batch_size=1000):\n",
    "        n_users = len(self.users_embeddings)\n",
    "        n_items = len(self.items_embeddings)\n",
    "        \n",
    "        implicit = (user_item >= bound)\n",
    "        offset = implicit.sum(axis=1).cpu().numpy()\n",
    "        indexes = implicit.float().argsort(axis=1, descending=True).cpu().numpy()\n",
    "        \n",
    "        def generate_pair():\n",
    "            user = random.randint(0, n_users)\n",
    "            while offset[user] == 0 or offset[user] == n_items:\n",
    "                user = random.randint(0, n_users)\n",
    "            positive_exaple = indexes[user][random.randint(0, offset[user])]\n",
    "            negative_exaple = indexes[user][random.randint(offset[user], n_items)]\n",
    "            return user, positive_exaple, negative_exaple\n",
    "        \n",
    "        for i in range(n_epoch):\n",
    "            users_grad = alpha * self.users_embeddings\n",
    "            items_grad = alpha * self.items_embeddings\n",
    "            for _ in range(batch_size):\n",
    "                user, positive, negative = generate_pair()\n",
    "                delta_h = self.items_embeddings[positive] - self.items_embeddings[negative]\n",
    "                delta_x = self.users_embeddings[user].dot(delta_h)\n",
    "                sigma = 1 - torch.sigmoid(delta_x)\n",
    "            \n",
    "                users_grad[user] += sigma * delta_h\n",
    "                items_grad[positive] += sigma * self.users_embeddings[user]\n",
    "                items_grad[negative] += -sigma * self.users_embeddings[user]\n",
    "            \n",
    "            self.users_embeddings += lr * users_grad\n",
    "            self.items_embeddings += lr * items_grad"
   ]
  },
  {
   "cell_type": "code",
   "execution_count": 420,
   "metadata": {},
   "outputs": [],
   "source": [
    "n_users, n_items = torch_data.shape\n",
    "model_bpr = BPR(n_users, n_items, 64)\n",
    "model_bpr.fit(torch_data, 4, 0.01, 0.01, n_epoch=500, batch_size=1000)"
   ]
  },
  {
   "cell_type": "code",
   "execution_count": 421,
   "metadata": {},
   "outputs": [
    {
     "name": "stdout",
     "output_type": "stream",
     "text": [
      "ROC-AUC: 0.8555851766539433\n"
     ]
    }
   ],
   "source": [
    "print(f'ROC-AUC: {roc_auc_score((torch_data >= 4).flatten().cpu().numpy(), model_bpr.predict().flatten().cpu().numpy())}')"
   ]
  },
  {
   "cell_type": "code",
   "execution_count": 422,
   "metadata": {},
   "outputs": [
    {
     "name": "stdout",
     "output_type": "stream",
     "text": [
      "[d=0.000] Toy Story (1995) (Category: Animation|Children's|Comedy)\n",
      "[d=0.003] Schindler's List (1993) (Category: Drama|War)\n",
      "[d=0.003] Saving Private Ryan (1998) (Category: Action|Drama|War)\n",
      "[d=0.004] Fargo (1996) (Category: Crime|Drama|Thriller)\n",
      "[d=0.004] American Beauty (1999) (Category: Comedy|Drama)\n",
      "[d=0.004] Raiders of the Lost Ark (1981) (Category: Action|Adventure)\n",
      "[d=0.004] Silence of the Lambs, The (1991) (Category: Drama|Thriller)\n",
      "[d=0.004] Jurassic Park (1993) (Category: Action|Adventure|Sci-Fi)\n",
      "[d=0.004] Terminator 2: Judgment Day (1991) (Category: Action|Sci-Fi|Thriller)\n",
      "[d=0.004] Star Wars: Episode VI - Return of the Jedi (1983) (Category: Action|Adventure|Romance|Sci-Fi|War)\n",
      "[d=0.004] Shakespeare in Love (1998) (Category: Comedy|Romance)\n",
      "[d=0.004] Matrix, The (1999) (Category: Action|Sci-Fi|Thriller)\n",
      "[d=0.004] Braveheart (1995) (Category: Action|Drama|War)\n",
      "[d=0.004] Star Wars: Episode IV - A New Hope (1977) (Category: Action|Adventure|Fantasy|Sci-Fi)\n",
      "[d=0.004] Shawshank Redemption, The (1994) (Category: Drama)\n",
      "[d=0.004] Gladiator (2000) (Category: Action|Drama)\n",
      "[d=0.004] Princess Bride, The (1987) (Category: Action|Adventure|Comedy|Romance)\n",
      "[d=0.004] Patriot, The (2000) (Category: Action|Drama|War)\n",
      "[d=0.004] Men in Black (1997) (Category: Action|Adventure|Comedy|Sci-Fi)\n",
      "[d=0.004] L.A. Confidential (1997) (Category: Crime|Film-Noir|Mystery|Thriller)\n"
     ]
    }
   ],
   "source": [
    "items_table = model_bpr.items_embeddings\n",
    "get_simmilar_movies(items_table[1], items_table)"
   ]
  },
  {
   "cell_type": "code",
   "execution_count": 423,
   "metadata": {},
   "outputs": [
    {
     "name": "stdout",
     "output_type": "stream",
     "text": [
      "[d=0.000] Toy Story (1995) (Category: Animation|Children's|Comedy)\n",
      "[d=0.183] Fugitive, The (1993) (Category: Action|Thriller)\n",
      "[d=0.195] Ghostbusters (1984) (Category: Comedy|Horror)\n",
      "[d=0.197] Groundhog Day (1993) (Category: Comedy|Romance)\n",
      "[d=0.198] Men in Black (1997) (Category: Action|Adventure|Comedy|Sci-Fi)\n",
      "[d=0.210] Toy Story 2 (1999) (Category: Animation|Children's|Comedy)\n",
      "[d=0.216] Terminator, The (1984) (Category: Action|Sci-Fi|Thriller)\n",
      "[d=0.219] Bug's Life, A (1998) (Category: Animation|Children's|Comedy)\n",
      "[d=0.227] Godfather: Part II, The (1974) (Category: Action|Crime|Drama)\n",
      "[d=0.240] E.T. the Extra-Terrestrial (1982) (Category: Children's|Drama|Fantasy|Sci-Fi)\n",
      "[d=0.241] Stand by Me (1986) (Category: Adventure|Comedy|Drama)\n",
      "[d=0.242] Usual Suspects, The (1995) (Category: Crime|Thriller)\n",
      "[d=0.244] Pulp Fiction (1994) (Category: Crime|Drama)\n",
      "[d=0.246] Alien (1979) (Category: Action|Horror|Sci-Fi|Thriller)\n",
      "[d=0.251] Casablanca (1942) (Category: Drama|Romance|War)\n",
      "[d=0.266] Blade Runner (1982) (Category: Film-Noir|Sci-Fi)\n",
      "[d=0.271] GoodFellas (1990) (Category: Crime|Drama)\n",
      "[d=0.282] Galaxy Quest (1999) (Category: Adventure|Comedy|Sci-Fi)\n",
      "[d=0.289] Babe (1995) (Category: Children's|Comedy|Drama)\n",
      "[d=0.304] Airplane! (1980) (Category: Comedy)\n"
     ]
    }
   ],
   "source": [
    "items_table = model_bpr.items_embeddings\n",
    "get_simmilar_movies(items_table[1], items_table, dist=l2_dist)"
   ]
  },
  {
   "cell_type": "code",
   "execution_count": 424,
   "metadata": {},
   "outputs": [
    {
     "name": "stdout",
     "output_type": "stream",
     "text": [
      "[d=2.295] American Beauty (1999) (Category: Comedy|Drama)\n",
      "[d=1.915] Sixth Sense, The (1999) (Category: Thriller)\n",
      "[d=1.898] Silence of the Lambs, The (1991) (Category: Drama|Thriller)\n",
      "[d=1.780] Schindler's List (1993) (Category: Drama|War)\n",
      "[d=1.779] Matrix, The (1999) (Category: Action|Sci-Fi|Thriller)\n",
      "[d=1.768] Braveheart (1995) (Category: Action|Drama|War)\n",
      "[d=1.766] Terminator 2: Judgment Day (1991) (Category: Action|Sci-Fi|Thriller)\n",
      "[d=1.747] Godfather, The (1972) (Category: Action|Crime|Drama)\n",
      "[d=1.745] Shawshank Redemption, The (1994) (Category: Drama)\n",
      "[d=1.738] Being John Malkovich (1999) (Category: Comedy)\n",
      "[d=1.737] Shakespeare in Love (1998) (Category: Comedy|Romance)\n",
      "[d=1.730] Fargo (1996) (Category: Crime|Drama|Thriller)\n",
      "[d=1.689] Princess Bride, The (1987) (Category: Action|Adventure|Comedy|Romance)\n",
      "[d=1.663] L.A. Confidential (1997) (Category: Crime|Film-Noir|Mystery|Thriller)\n",
      "[d=1.647] Back to the Future (1985) (Category: Comedy|Sci-Fi)\n",
      "[d=1.641] Forrest Gump (1994) (Category: Comedy|Romance|War)\n",
      "[d=1.630] Gladiator (2000) (Category: Action|Drama)\n",
      "[d=1.584] One Flew Over the Cuckoo's Nest (1975) (Category: Drama)\n",
      "[d=1.529] Men in Black (1997) (Category: Action|Adventure|Comedy|Sci-Fi)\n",
      "[d=1.524] Pulp Fiction (1994) (Category: Crime|Drama)\n"
     ]
    }
   ],
   "source": [
    "get_recommendations(model.users_embeddings[4], torch_data[4], items_table)"
   ]
  },
  {
   "cell_type": "markdown",
   "metadata": {},
   "source": [
    "### Задание 4. Не использую готовые решения, реализовать матричное разложение WARP на implicit данных"
   ]
  },
  {
   "cell_type": "code",
   "execution_count": null,
   "metadata": {},
   "outputs": [],
   "source": []
  }
 ],
 "metadata": {
  "kernelspec": {
   "display_name": "Python 3",
   "language": "python",
   "name": "python3"
  },
  "language_info": {
   "codemirror_mode": {
    "name": "ipython",
    "version": 3
   },
   "file_extension": ".py",
   "mimetype": "text/x-python",
   "name": "python",
   "nbconvert_exporter": "python",
   "pygments_lexer": "ipython3",
   "version": "3.7.3"
  }
 },
 "nbformat": 4,
 "nbformat_minor": 2
}
